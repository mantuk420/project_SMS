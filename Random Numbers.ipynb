{
 "cells": [
  {
   "cell_type": "markdown",
   "id": "83b8c020",
   "metadata": {},
   "source": [
    "# Random Numbers\n",
    "\n",
    "- OBJECTIVE : return random numbers or random selection\n",
    "- use the package random\n",
    "- Uncertaininity\n"
   ]
  },
  {
   "cell_type": "code",
   "execution_count": null,
   "id": "6c4570e2",
   "metadata": {},
   "outputs": [],
   "source": [
    "import random"
   ]
  },
  {
   "cell_type": "code",
   "execution_count": null,
   "id": "a00ddf5d",
   "metadata": {},
   "outputs": [],
   "source": [
    "print( dir(random) )\n",
    "\n",
    "'betavariate', 'choice', 'choices', 'expovariate', 'gammavariate', 'gauss', \n",
    "'getrandbits', 'getstate', 'lognormvariate', 'normalvariate', 'paretovariate', \n",
    "'randbytes', 'randint', 'random', 'randrange', 'sample', 'seed', \n",
    "'setstate', 'shuffle', 'triangular', 'uniform', 'vonmisesvariate', 'weibullvariate'"
   ]
  },
  {
   "cell_type": "code",
   "execution_count": null,
   "id": "82c3824a",
   "metadata": {},
   "outputs": [],
   "source": []
  },
  {
   "cell_type": "code",
   "execution_count": null,
   "id": "465e3b26",
   "metadata": {},
   "outputs": [],
   "source": [
    "# 1.  random.random()\n",
    "# Get Floating Random number betweeen range 0 to 1\n",
    "# (0,1)"
   ]
  },
  {
   "cell_type": "code",
   "execution_count": 33,
   "id": "85cd7f76",
   "metadata": {},
   "outputs": [
    {
     "name": "stdout",
     "output_type": "stream",
     "text": [
      "0.17608747340780506\n",
      "0.906172833363405\n",
      "0.12862429035726897\n"
     ]
    }
   ],
   "source": [
    "import random \n",
    "\n",
    "print( random.random() )\n",
    "print( random.random() )\n",
    "print( random.random() )\n"
   ]
  },
  {
   "cell_type": "code",
   "execution_count": null,
   "id": "091e33fb",
   "metadata": {},
   "outputs": [],
   "source": []
  },
  {
   "cell_type": "code",
   "execution_count": null,
   "id": "bd0b30e0",
   "metadata": {},
   "outputs": [],
   "source": [
    "# 2.  random.randrange(start, end, step)\n",
    "# Get Random number betweeen range start and end\n",
    "# [start, end)\n",
    "# start : Included\n",
    "# end : Excluded\n",
    "# step : 1"
   ]
  },
  {
   "cell_type": "code",
   "execution_count": 14,
   "id": "d88a8186",
   "metadata": {},
   "outputs": [
    {
     "name": "stdout",
     "output_type": "stream",
     "text": [
      "3\n",
      "1\n",
      "3\n",
      "-------------------------------------------------\n",
      "3\n",
      "7\n",
      "1\n"
     ]
    }
   ],
   "source": [
    "import random\n",
    "\n",
    "print( random.randrange(1, 10) )\n",
    "print( random.randrange(1, 10) )\n",
    "print( random.randrange(1, 10) )\n",
    "print(\"-------------------------------------------------\")\n",
    "print( random.randrange(1, 10, 2) ) # 1 3 5 7 9\n",
    "print( random.randrange(1, 10, 2) ) # 1 3 5 7 9\n",
    "print( random.randrange(1, 10, 2) ) # 1 3 5 7 9\n"
   ]
  },
  {
   "cell_type": "code",
   "execution_count": null,
   "id": "14992988",
   "metadata": {},
   "outputs": [],
   "source": [
    "# 3.  random.randint(start, end)\n",
    "# Get Random number betweeen range start and end\n",
    "# [start, end]\n",
    "# start : Included\n",
    "# end : Included\n"
   ]
  },
  {
   "cell_type": "code",
   "execution_count": 17,
   "id": "77291824",
   "metadata": {},
   "outputs": [
    {
     "name": "stdout",
     "output_type": "stream",
     "text": [
      "6\n",
      "10\n",
      "8\n"
     ]
    }
   ],
   "source": [
    "import random\n",
    "\n",
    "print( random.randint(1, 10) )\n",
    "print( random.randint(1, 10) )\n",
    "print( random.randint(1, 10) )\n"
   ]
  },
  {
   "cell_type": "code",
   "execution_count": null,
   "id": "8752d200",
   "metadata": {},
   "outputs": [],
   "source": []
  },
  {
   "cell_type": "code",
   "execution_count": null,
   "id": "146d8203",
   "metadata": {},
   "outputs": [],
   "source": [
    "# 4.  random.uniform(start, end)\n",
    "# Get  Floating Random number betweeen range start and end\n",
    "# (start, end)\n",
    "# start : Excluded\n",
    "# end : Excluded\n"
   ]
  },
  {
   "cell_type": "code",
   "execution_count": 27,
   "id": "eff99327",
   "metadata": {},
   "outputs": [
    {
     "name": "stdout",
     "output_type": "stream",
     "text": [
      "5.90827202850109\n",
      "2.702463345212708\n",
      "3.4127817166664682\n"
     ]
    }
   ],
   "source": [
    "import random\n",
    "\n",
    "print( random.uniform(1, 10) )\n",
    "print( random.uniform(1, 10) )\n",
    "print( random.uniform(1, 10) )\n"
   ]
  },
  {
   "cell_type": "code",
   "execution_count": null,
   "id": "36650563",
   "metadata": {},
   "outputs": [],
   "source": []
  },
  {
   "cell_type": "code",
   "execution_count": null,
   "id": "f5c0023d",
   "metadata": {},
   "outputs": [],
   "source": [
    "## 5. seed : Based on the pattern and input range, it make sure it return fixed answer for that CODE (INSTANCE)"
   ]
  },
  {
   "cell_type": "code",
   "execution_count": 34,
   "id": "7e9f1fef",
   "metadata": {},
   "outputs": [
    {
     "name": "stdout",
     "output_type": "stream",
     "text": [
      "6\n",
      "9\n"
     ]
    }
   ],
   "source": [
    "import random\n",
    "\n",
    "print( random.randint(1, 10) )\n",
    "print( random.randint(1, 10) )\n"
   ]
  },
  {
   "cell_type": "code",
   "execution_count": 36,
   "id": "5f634b9c",
   "metadata": {},
   "outputs": [
    {
     "name": "stdout",
     "output_type": "stream",
     "text": [
      "8\n",
      "4\n",
      "1\n"
     ]
    }
   ],
   "source": [
    "import random\n",
    "\n",
    "random.seed(50)\n",
    "print( random.randint(1, 10) )\n",
    "\n",
    "random.seed(111)\n",
    "print( random.randint(1, 10) )\n",
    "\n",
    "random.seed(200)\n",
    "print( random.randint(1, 10) )\n"
   ]
  },
  {
   "cell_type": "code",
   "execution_count": null,
   "id": "b1089e74",
   "metadata": {},
   "outputs": [],
   "source": [
    "# 1 2 3 4 5 6 7 8 9 10\n",
    "\n",
    "#              8        # seed 50\n",
    "#   2                   # seed 25\n",
    "# 1                     # seed 200\n",
    "\n"
   ]
  },
  {
   "cell_type": "code",
   "execution_count": 69,
   "id": "57843937",
   "metadata": {},
   "outputs": [
    {
     "name": "stdout",
     "output_type": "stream",
     "text": [
      "t\n",
      "10\n",
      "6\n"
     ]
    }
   ],
   "source": [
    "# 6. random.choice(seqName) : return a single result out of the sequence\n",
    "\n",
    "stringName = \"python\"\n",
    "print( random.choice(stringName) )\n",
    "\n",
    "\n",
    "myList = [10, 8, 6, -14]\n",
    "print( random.choice(myList) )\n",
    "\n",
    "tup = (10, 8, 6, -14)\n",
    "print( random.choice(tup) )"
   ]
  },
  {
   "cell_type": "code",
   "execution_count": 90,
   "id": "b862d93b",
   "metadata": {},
   "outputs": [
    {
     "name": "stdout",
     "output_type": "stream",
     "text": [
      "[10, 10]\n",
      "[10, 8, 6]\n"
     ]
    }
   ],
   "source": [
    "# 7. random.sample(seqName, k) : return a chunk of UNIQUE elements out of the sequence and it return LIST\n",
    "# seqName = population\n",
    "# k = count\n",
    "\n",
    "myList = [10, 8, 6, -14, 10, 10, 10]\n",
    "print( random.sample(myList, 2) )\n",
    "\n",
    "tup = (10, 8, 6, -14)\n",
    "print( random.sample(tup, 3) )"
   ]
  },
  {
   "cell_type": "code",
   "execution_count": null,
   "id": "f77bcf8b",
   "metadata": {},
   "outputs": [],
   "source": []
  },
  {
   "cell_type": "code",
   "execution_count": 94,
   "id": "e2ef64f0",
   "metadata": {},
   "outputs": [
    {
     "data": {
      "text/plain": [
       "'!\"#$%&\\'()*+,-./:;<=>?@[\\\\]^_`{|}~'"
      ]
     },
     "execution_count": 94,
     "metadata": {},
     "output_type": "execute_result"
    }
   ],
   "source": [
    "# ## \"QWERTYUIOPLKJHGFDSAZXCVBNM<<>?\"{}*-*/!@#$%^&*()\"\n",
    "\n",
    "# password = \"\"\n",
    "# password + choice()\n",
    "\n",
    "import string\n"
   ]
  },
  {
   "cell_type": "code",
   "execution_count": null,
   "id": "fc009a29",
   "metadata": {},
   "outputs": [],
   "source": []
  },
  {
   "cell_type": "code",
   "execution_count": null,
   "id": "cc26a31b",
   "metadata": {},
   "outputs": [],
   "source": [
    "## Guess a Number : \n",
    "\n",
    "#  within a range 1 to 20\n",
    "compNumber = 14\n",
    "\n",
    "# step1 : repeat 1 time\n",
    "userNumber = 10 , Win or Lose\n"
   ]
  },
  {
   "cell_type": "code",
   "execution_count": null,
   "id": "b82ec28b",
   "metadata": {},
   "outputs": [],
   "source": [
    "## Guess a Number : \n",
    "\n",
    "#  within a range 1 to 20\n",
    "compNumber = 14\n",
    "\n",
    "# step2 : repeat till he reaches the answer\n",
    "userNumber = 10 , UP\n",
    "userNumber = 20 , down\n",
    "userNumber = 16 , down\n",
    "userNumber = 14 , win\n"
   ]
  },
  {
   "cell_type": "code",
   "execution_count": null,
   "id": "44ad9f2e",
   "metadata": {},
   "outputs": [],
   "source": [
    "## Guess a Number : \n",
    "\n",
    "#  within a range 1 to 20\n",
    "compNumber = 14\n",
    "\n",
    "# step3 : repeat till user gives up (QQ) or you provide that chances (5)\n",
    "userNumber = 10 , UP\n",
    "userNumber = 20 , down\n",
    "userNumber = 16 , down\n",
    "userNumber = 14 , win\n"
   ]
  },
  {
   "cell_type": "code",
   "execution_count": null,
   "id": "1c1361ee",
   "metadata": {},
   "outputs": [],
   "source": []
  },
  {
   "cell_type": "code",
   "execution_count": null,
   "id": "f27c107f",
   "metadata": {},
   "outputs": [],
   "source": [
    "# Rock paper and scissor\n",
    "\n",
    "1. rock\n",
    "2. paper\n",
    "3. scissor\n",
    "\n",
    "rock beats scissor\n",
    "scissor beats paper\n",
    "paper beats rock\n",
    "\n",
    "comp = 2\n",
    "user = 3 , win\n",
    "\n",
    "\n",
    "comp = 2, WIN\n",
    "user = 1 \n"
   ]
  },
  {
   "cell_type": "code",
   "execution_count": null,
   "id": "7e21a339",
   "metadata": {},
   "outputs": [],
   "source": []
  },
  {
   "cell_type": "code",
   "execution_count": null,
   "id": "0d41eef6",
   "metadata": {},
   "outputs": [],
   "source": []
  },
  {
   "cell_type": "code",
   "execution_count": null,
   "id": "fc2a6ec2",
   "metadata": {},
   "outputs": [],
   "source": []
  },
  {
   "cell_type": "code",
   "execution_count": null,
   "id": "13ccf35d",
   "metadata": {},
   "outputs": [],
   "source": []
  },
  {
   "cell_type": "code",
   "execution_count": null,
   "id": "cdf3a031",
   "metadata": {},
   "outputs": [],
   "source": []
  },
  {
   "cell_type": "code",
   "execution_count": null,
   "id": "417685ef",
   "metadata": {},
   "outputs": [],
   "source": []
  }
 ],
 "metadata": {
  "kernelspec": {
   "display_name": "Python 3 (ipykernel)",
   "language": "python",
   "name": "python3"
  },
  "language_info": {
   "codemirror_mode": {
    "name": "ipython",
    "version": 3
   },
   "file_extension": ".py",
   "mimetype": "text/x-python",
   "name": "python",
   "nbconvert_exporter": "python",
   "pygments_lexer": "ipython3",
   "version": "3.9.13"
  }
 },
 "nbformat": 4,
 "nbformat_minor": 5
}
