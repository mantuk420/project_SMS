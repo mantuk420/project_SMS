{
 "cells": [
  {
   "cell_type": "code",
   "execution_count": 1,
   "id": "f317a216",
   "metadata": {
    "scrolled": false
   },
   "outputs": [
    {
     "name": "stdout",
     "output_type": "stream",
     "text": [
      "True\n"
     ]
    }
   ],
   "source": [
    "print(14 > 10)"
   ]
  },
  {
   "cell_type": "code",
   "execution_count": 7,
   "id": "cc4b11e7",
   "metadata": {},
   "outputs": [
    {
     "name": "stdout",
     "output_type": "stream",
     "text": [
      "216\n"
     ]
    }
   ],
   "source": [
    "print(6 ** 3)"
   ]
  },
  {
   "cell_type": "markdown",
   "id": "1c78fc7e",
   "metadata": {},
   "source": [
    "Markdown : \n",
    "\n",
    "This is used for Inserting Text and different formats (html, links, bold, italic)"
   ]
  },
  {
   "cell_type": "markdown",
   "id": "cf5895a5",
   "metadata": {},
   "source": [
    "# heading\n",
    "## heading\n",
    "### heading\n",
    "#### heading\n",
    "\n",
    "Add relevant points:\n",
    "\n",
    "    - point 1\n",
    "    - point 2\n",
    "\n",
    "Your message **This is Bold** . You can do it bold\n",
    "\n",
    "_For Italic_\n",
    "\n",
    "Drive link : \n",
    "https://drive.google.com/drive/u/0/folders/1DrvQrqbj8LjQjpbUedv11H4OxlqjiWM3\n",
    "\n"
   ]
  },
  {
   "cell_type": "code",
   "execution_count": null,
   "id": "52ab7319",
   "metadata": {},
   "outputs": [],
   "source": []
  },
  {
   "cell_type": "code",
   "execution_count": null,
   "id": "61e41144",
   "metadata": {},
   "outputs": [],
   "source": []
  },
  {
   "cell_type": "code",
   "execution_count": 4,
   "id": "d8bd4fce",
   "metadata": {
    "scrolled": true
   },
   "outputs": [
    {
     "name": "stdout",
     "output_type": "stream",
     "text": [
      "True\n"
     ]
    }
   ],
   "source": [
    "print(14 > 10)"
   ]
  },
  {
   "cell_type": "code",
   "execution_count": null,
   "id": "92c7b96f",
   "metadata": {},
   "outputs": [],
   "source": []
  },
  {
   "cell_type": "code",
   "execution_count": null,
   "id": "96dc373c",
   "metadata": {},
   "outputs": [],
   "source": []
  },
  {
   "cell_type": "code",
   "execution_count": null,
   "id": "c5ad3b3d",
   "metadata": {},
   "outputs": [],
   "source": []
  },
  {
   "cell_type": "code",
   "execution_count": null,
   "id": "6e654d3d",
   "metadata": {},
   "outputs": [],
   "source": []
  },
  {
   "cell_type": "code",
   "execution_count": null,
   "id": "917befcb",
   "metadata": {},
   "outputs": [],
   "source": []
  },
  {
   "cell_type": "code",
   "execution_count": null,
   "id": "92c97927",
   "metadata": {},
   "outputs": [],
   "source": []
  }
 ],
 "metadata": {
  "kernelspec": {
   "display_name": "Python 3 (ipykernel)",
   "language": "python",
   "name": "python3"
  },
  "language_info": {
   "codemirror_mode": {
    "name": "ipython",
    "version": 3
   },
   "file_extension": ".py",
   "mimetype": "text/x-python",
   "name": "python",
   "nbconvert_exporter": "python",
   "pygments_lexer": "ipython3",
   "version": "3.9.13"
  }
 },
 "nbformat": 4,
 "nbformat_minor": 5
}
